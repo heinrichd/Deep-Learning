{
 "cells": [
  {
   "cell_type": "markdown",
   "metadata": {},
   "source": [
    "Mini-Project 1 \n"
   ]
  },
  {
   "cell_type": "markdown",
   "metadata": {},
   "source": [
    "Base code to generate figures"
   ]
  },
  {
   "cell_type": "code",
   "execution_count": 1,
   "metadata": {},
   "outputs": [
    {
     "name": "stderr",
     "output_type": "stream",
     "text": [
      "Using TensorFlow backend.\n"
     ]
    },
    {
     "data": {
      "image/png": "[encoded data removed]",
      "text/plain": [
       "<Figure size 432x288 with 1 Axes>"
      ]
     },
     "metadata": {
      "needs_background": "light"
     },
     "output_type": "display_data"
    }
   ],
   "source": [
    "import matplotlib.pyplot as plt\n",
    "%matplotlib inline\n",
    "import numpy as np\n",
    "from keras.utils import to_categorical\n",
    "\n",
    "\n",
    "# On some implementations of matplotlib, you may need to change this value\n",
    "IMAGE_SIZE = 72\n",
    "\n",
    "def generate_a_drawing(figsize, U, V, noise=0.0):\n",
    "    fig = plt.figure(figsize=(figsize,figsize))\n",
    "    ax = plt.subplot(111)\n",
    "    plt.axis('Off')\n",
    "    ax.set_xlim(0,figsize)\n",
    "    ax.set_ylim(0,figsize)\n",
    "    ax.fill(U, V, \"k\")\n",
    "    fig.canvas.draw()\n",
    "    imdata = np.frombuffer(fig.canvas.tostring_rgb(), dtype=np.uint8)[::3].astype(np.float32)\n",
    "    imdata = imdata + noise * np.random.random(imdata.size)\n",
    "    plt.close(fig)\n",
    "    return imdata\n",
    "\n",
    "def generate_a_rectangle(noise=0.0, free_location=False):\n",
    "    figsize = 1.0    \n",
    "    U = np.zeros(4)\n",
    "    V = np.zeros(4)\n",
    "    if free_location:\n",
    "        corners = np.random.random(4)\n",
    "        top = max(corners[0], corners[1])\n",
    "        bottom = min(corners[0], corners[1])\n",
    "        left = min(corners[2], corners[3])\n",
    "        right = max(corners[2], corners[3])\n",
    "    else:\n",
    "        side = (0.3 + 0.7 * np.random.random()) * figsize\n",
    "        top = figsize/2 + side/2\n",
    "        bottom = figsize/2 - side/2\n",
    "        left = bottom\n",
    "        right = top\n",
    "    U[0] = U[1] = top\n",
    "    U[2] = U[3] = bottom\n",
    "    V[0] = V[3] = left\n",
    "    V[1] = V[2] = right\n",
    "    return generate_a_drawing(figsize, U, V, noise)\n",
    "\n",
    "\n",
    "def generate_a_disk(noise=0.0, free_location=False):\n",
    "    figsize = 1.0\n",
    "    if free_location:\n",
    "        center = np.random.random(2)\n",
    "    else:\n",
    "        center = (figsize/2, figsize/2)\n",
    "    radius = (0.3 + 0.7 * np.random.random()) * figsize/2\n",
    "    N = 50\n",
    "    U = np.zeros(N)\n",
    "    V = np.zeros(N)\n",
    "    i = 0\n",
    "    for t in np.linspace(0, 2*np.pi, N):\n",
    "        U[i] = center[0] + np.cos(t) * radius\n",
    "        V[i] = center[1] + np.sin(t) * radius\n",
    "        i = i + 1\n",
    "    return generate_a_drawing(figsize, U, V, noise)\n",
    "\n",
    "def generate_a_triangle(noise=0.0, free_location=False):\n",
    "    figsize = 1.0\n",
    "    if free_location:\n",
    "        U = np.random.random(3)\n",
    "        V = np.random.random(3)\n",
    "    else:\n",
    "        size = (0.3 + 0.7 * np.random.random())*figsize/2\n",
    "        middle = figsize/2\n",
    "        U = (middle, middle+size, middle-size)\n",
    "        V = (middle+size, middle-size, middle-size)\n",
    "    imdata = generate_a_drawing(figsize, U, V, noise)\n",
    "    return [imdata, [U[0], V[0], U[1], V[1], U[2], V[2]]]\n",
    "\n",
    "\n",
    "im = generate_a_rectangle(10, True)\n",
    "plt.imshow(im.reshape(IMAGE_SIZE,IMAGE_SIZE), cmap='gray')\n",
    "\n",
    "im = generate_a_disk(10)\n",
    "plt.imshow(im.reshape(IMAGE_SIZE,IMAGE_SIZE), cmap='gray')\n",
    "\n",
    "[im, v] = generate_a_triangle(20, False)\n",
    "plt.imshow(im.reshape(IMAGE_SIZE,IMAGE_SIZE), cmap='gray')\n",
    "\n",
    "\n",
    "def generate_dataset_classification(nb_samples, noise=0.0, free_location=False):\n",
    "    # Getting im_size:\n",
    "    im_size = generate_a_rectangle().shape[0]\n",
    "    X = np.zeros([nb_samples,im_size])\n",
    "    Y = np.zeros(nb_samples)\n",
    "    print('Creating data:')\n",
    "    for i in range(nb_samples):\n",
    "        if i % 10 == 0:\n",
    "            print(i)\n",
    "        category = np.random.randint(3)\n",
    "        if category == 0:\n",
    "            X[i] = generate_a_rectangle(noise, free_location)\n",
    "        elif category == 1: \n",
    "            X[i] = generate_a_disk(noise, free_location)\n",
    "        else:\n",
    "            [X[i], V] = generate_a_triangle(noise, free_location)\n",
    "        Y[i] = category\n",
    "    X = (X + noise) / (255 + 2 * noise)\n",
    "    return [X, Y]\n",
    "\n",
    "def generate_test_set_classification():\n",
    "    np.random.seed(42)\n",
    "    [X_test, Y_test] = generate_dataset_classification(300, 20, True)\n",
    "    Y_test = to_categorical(Y_test, 3) \n",
    "    return [X_test, Y_test]\n",
    "\n",
    "def generate_dataset_regression(nb_samples, noise=0.0):\n",
    "    # Getting im_size:\n",
    "    im_size = generate_a_triangle()[0].shape[0]\n",
    "    X = np.zeros([nb_samples,im_size])\n",
    "    Y = np.zeros([nb_samples, 6])\n",
    "    print('Creating data:')\n",
    "    for i in range(nb_samples):\n",
    "        if i % 10 == 0:\n",
    "            print(i)\n",
    "        [X[i], Y[i]] = generate_a_triangle(noise, True)\n",
    "    X = (X + noise) / (255 + 2 * noise)\n",
    "    return [X, Y]\n",
    "\n",
    "import matplotlib.patches as patches\n",
    "\n",
    "def visualize_prediction(x, y):\n",
    "    fig, ax = plt.subplots(figsize=(5, 5))\n",
    "    I = x.reshape((IMAGE_SIZE,IMAGE_SIZE))\n",
    "    ax.imshow(I, extent=[-0.15,1.15,-0.15,1.15],cmap='gray')\n",
    "    ax.set_xlim([0,1])\n",
    "    ax.set_ylim([0,1])\n",
    "\n",
    "    xy = y.reshape(3,2)\n",
    "    tri = patches.Polygon(xy, closed=True, fill = False, edgecolor = 'r', linewidth = 5, alpha = 0.5)\n",
    "    ax.add_patch(tri)\n",
    "\n",
    "    plt.show()\n",
    "\n",
    "def generate_test_set_regression():\n",
    "    np.random.seed(42)\n",
    "    [X_test, Y_test] = generate_dataset_regression(300, 20)\n",
    "    return [X_test, Y_test]\n"
   ]
  },
  {
   "cell_type": "markdown",
   "metadata": {},
   "source": [
    "3 - Simple Classification\n",
    "\n",
    "First, we generate a training set of 300 images of three geometric shapes (rectangle, disk, triangle)"
   ]
  },
  {
   "cell_type": "code",
   "execution_count": 2,
   "metadata": {},
   "outputs": [
    {
     "name": "stdout",
     "output_type": "stream",
     "text": [
      "Creating data:\n",
      "0\n",
      "10\n",
      "20\n",
      "30\n",
      "40\n",
      "50\n",
      "60\n",
      "70\n",
      "80\n",
      "90\n",
      "100\n",
      "110\n",
      "120\n",
      "130\n",
      "140\n",
      "150\n",
      "160\n",
      "170\n",
      "180\n",
      "190\n",
      "200\n",
      "210\n",
      "220\n",
      "230\n",
      "240\n",
      "250\n",
      "260\n",
      "270\n",
      "280\n",
      "290\n"
     ]
    }
   ],
   "source": [
    "[X_train, Y_train] = generate_dataset_classification(300, 20)\n"
   ]
  },
  {
   "cell_type": "markdown",
   "metadata": {},
   "source": [
    "Then we can build 2 linear classifiers : Stochastic Gradient Descent (SGD) and Adam."
   ]
  },
  {
   "cell_type": "code",
   "execution_count": 5,
   "metadata": {
    "scrolled": true
   },
   "outputs": [
    {
     "ename": "ValueError",
     "evalue": "bad input shape (300, 6)",
     "output_type": "error",
     "traceback": [
      "\u001b[1;31m---------------------------------------------------------------------------\u001b[0m",
      "\u001b[1;31mValueError\u001b[0m                                Traceback (most recent call last)",
      "\u001b[1;32m<ipython-input-5-c07cb8d32241>\u001b[0m in \u001b[0;36m<module>\u001b[1;34m\u001b[0m\n\u001b[0;32m      7\u001b[0m \u001b[1;33m\u001b[0m\u001b[0m\n\u001b[0;32m      8\u001b[0m \u001b[0mencoder\u001b[0m\u001b[1;33m=\u001b[0m\u001b[0mLabelEncoder\u001b[0m\u001b[1;33m(\u001b[0m\u001b[1;33m)\u001b[0m\u001b[1;33m\u001b[0m\u001b[1;33m\u001b[0m\u001b[0m\n\u001b[1;32m----> 9\u001b[1;33m \u001b[0mencoder\u001b[0m\u001b[1;33m.\u001b[0m\u001b[0mfit\u001b[0m\u001b[1;33m(\u001b[0m\u001b[0mY_train\u001b[0m\u001b[1;33m)\u001b[0m\u001b[1;33m\u001b[0m\u001b[1;33m\u001b[0m\u001b[0m\n\u001b[0m\u001b[0;32m     10\u001b[0m \u001b[0mencoded_Y\u001b[0m\u001b[1;33m=\u001b[0m\u001b[0mencoder\u001b[0m\u001b[1;33m.\u001b[0m\u001b[0mtransform\u001b[0m\u001b[1;33m(\u001b[0m\u001b[0mY_train\u001b[0m\u001b[1;33m)\u001b[0m\u001b[1;33m\u001b[0m\u001b[1;33m\u001b[0m\u001b[0m\n\u001b[0;32m     11\u001b[0m \u001b[1;33m\u001b[0m\u001b[0m\n",
      "\u001b[1;32m~\\Anaconda3\\envs\\tensorflow_env\\lib\\site-packages\\sklearn\\preprocessing\\label.py\u001b[0m in \u001b[0;36mfit\u001b[1;34m(self, y)\u001b[0m\n\u001b[0;32m    217\u001b[0m         \u001b[0mself\u001b[0m \u001b[1;33m:\u001b[0m \u001b[0mreturns\u001b[0m \u001b[0man\u001b[0m \u001b[0minstance\u001b[0m \u001b[0mof\u001b[0m \u001b[0mself\u001b[0m\u001b[1;33m.\u001b[0m\u001b[1;33m\u001b[0m\u001b[1;33m\u001b[0m\u001b[0m\n\u001b[0;32m    218\u001b[0m         \"\"\"\n\u001b[1;32m--> 219\u001b[1;33m         \u001b[0my\u001b[0m \u001b[1;33m=\u001b[0m \u001b[0mcolumn_or_1d\u001b[0m\u001b[1;33m(\u001b[0m\u001b[0my\u001b[0m\u001b[1;33m,\u001b[0m \u001b[0mwarn\u001b[0m\u001b[1;33m=\u001b[0m\u001b[1;32mTrue\u001b[0m\u001b[1;33m)\u001b[0m\u001b[1;33m\u001b[0m\u001b[1;33m\u001b[0m\u001b[0m\n\u001b[0m\u001b[0;32m    220\u001b[0m         \u001b[0mself\u001b[0m\u001b[1;33m.\u001b[0m\u001b[0mclasses_\u001b[0m \u001b[1;33m=\u001b[0m \u001b[0m_encode\u001b[0m\u001b[1;33m(\u001b[0m\u001b[0my\u001b[0m\u001b[1;33m)\u001b[0m\u001b[1;33m\u001b[0m\u001b[1;33m\u001b[0m\u001b[0m\n\u001b[0;32m    221\u001b[0m         \u001b[1;32mreturn\u001b[0m \u001b[0mself\u001b[0m\u001b[1;33m\u001b[0m\u001b[1;33m\u001b[0m\u001b[0m\n",
      "\u001b[1;32m~\\Anaconda3\\envs\\tensorflow_env\\lib\\site-packages\\sklearn\\utils\\validation.py\u001b[0m in \u001b[0;36mcolumn_or_1d\u001b[1;34m(y, warn)\u001b[0m\n\u001b[0;32m    795\u001b[0m         \u001b[1;32mreturn\u001b[0m \u001b[0mnp\u001b[0m\u001b[1;33m.\u001b[0m\u001b[0mravel\u001b[0m\u001b[1;33m(\u001b[0m\u001b[0my\u001b[0m\u001b[1;33m)\u001b[0m\u001b[1;33m\u001b[0m\u001b[1;33m\u001b[0m\u001b[0m\n\u001b[0;32m    796\u001b[0m \u001b[1;33m\u001b[0m\u001b[0m\n\u001b[1;32m--> 797\u001b[1;33m     \u001b[1;32mraise\u001b[0m \u001b[0mValueError\u001b[0m\u001b[1;33m(\u001b[0m\u001b[1;34m\"bad input shape {0}\"\u001b[0m\u001b[1;33m.\u001b[0m\u001b[0mformat\u001b[0m\u001b[1;33m(\u001b[0m\u001b[0mshape\u001b[0m\u001b[1;33m)\u001b[0m\u001b[1;33m)\u001b[0m\u001b[1;33m\u001b[0m\u001b[1;33m\u001b[0m\u001b[0m\n\u001b[0m\u001b[0;32m    798\u001b[0m \u001b[1;33m\u001b[0m\u001b[0m\n\u001b[0;32m    799\u001b[0m \u001b[1;33m\u001b[0m\u001b[0m\n",
      "\u001b[1;31mValueError\u001b[0m: bad input shape (300, 6)"
     ]
    }
   ],
   "source": [
    "from keras.models import Sequential\n",
    "from keras.layers import Dense, Flatten,Convolution2D, MaxPooling2D\n",
    "from sklearn.preprocessing import LabelEncoder\n",
    "from sklearn.model_selection import cross_val_score\n",
    "import tensorflow as tf\n",
    "from keras.utils import to_categorical\n",
    "\n",
    "encoder=LabelEncoder()\n",
    "encoder.fit(Y_train)\n",
    "encoded_Y=encoder.transform(Y_train)\n",
    "\n",
    "def create_baseline_adam():\n",
    "    model = Sequential()\n",
    "    model.add(Dense(32, activation='relu', input_dim=5184))\n",
    "    model.add(Dense(3, activation='softmax'))\n",
    "    model.compile(loss='categorical_crossentropy', optimizer='adam', metrics=['accuracy'])\n",
    "\n",
    "#model.compile(loss='categorical_crossentropy', optimizer='SGD', metrics=['accuracy'])\n",
    "\n",
    "    return model\n",
    "def create_baseline_SGD():\n",
    "    model = Sequential()\n",
    "    model.add(Dense(32, activation='relu', input_dim=5184))\n",
    "    model.add(Dense(3, activation='softmax'))\n",
    "    model.compile(loss='categorical_crossentropy', optimizer='SGD', metrics=['accuracy'])\n",
    "\n",
    "    return model\n",
    "\n",
    "\n",
    "\n",
    "\n"
   ]
  },
  {
   "cell_type": "markdown",
   "metadata": {},
   "source": [
    "We can now test the two models."
   ]
  },
  {
   "cell_type": "code",
   "execution_count": 4,
   "metadata": {},
   "outputs": [
    {
     "name": "stdout",
     "output_type": "stream",
     "text": [
      "Epoch 1/50\n",
      "300/300 [==============================] - 2s 7ms/step - loss: 1.2466 - acc: 0.3567\n",
      "Epoch 2/50\n",
      "300/300 [==============================] - 0s 329us/step - loss: 1.0811 - acc: 0.3767\n",
      "Epoch 3/50\n",
      "300/300 [==============================] - 0s 336us/step - loss: 1.0122 - acc: 0.5600\n",
      "Epoch 4/50\n",
      "300/300 [==============================] - 0s 364us/step - loss: 0.9199 - acc: 0.5767\n",
      "Epoch 5/50\n",
      "300/300 [==============================] - 0s 347us/step - loss: 0.8391 - acc: 0.6467\n",
      "Epoch 6/50\n",
      "300/300 [==============================] - 0s 329us/step - loss: 0.7714 - acc: 0.6700\n",
      "Epoch 7/50\n",
      "300/300 [==============================] - 0s 359us/step - loss: 0.8149 - acc: 0.6100\n",
      "Epoch 8/50\n",
      "300/300 [==============================] - 0s 331us/step - loss: 0.7191 - acc: 0.6700\n",
      "Epoch 9/50\n",
      "300/300 [==============================] - 0s 352us/step - loss: 0.6089 - acc: 0.7433\n",
      "Epoch 10/50\n",
      "300/300 [==============================] - 0s 382us/step - loss: 0.5480 - acc: 0.7767\n",
      "Epoch 11/50\n",
      "300/300 [==============================] - 0s 338us/step - loss: 0.5733 - acc: 0.7067\n",
      "Epoch 12/50\n",
      "300/300 [==============================] - 0s 308us/step - loss: 0.5314 - acc: 0.7800\n",
      "Epoch 13/50\n",
      "300/300 [==============================] - 0s 333us/step - loss: 0.4715 - acc: 0.8267\n",
      "Epoch 14/50\n",
      "300/300 [==============================] - 0s 343us/step - loss: 0.4422 - acc: 0.8633\n",
      "Epoch 15/50\n",
      "300/300 [==============================] - 0s 341us/step - loss: 0.4159 - acc: 0.8400\n",
      "Epoch 16/50\n",
      "300/300 [==============================] - 0s 329us/step - loss: 0.4200 - acc: 0.8400\n",
      "Epoch 17/50\n",
      "300/300 [==============================] - 0s 332us/step - loss: 0.4396 - acc: 0.8000\n",
      "Epoch 18/50\n",
      "300/300 [==============================] - 0s 377us/step - loss: 0.3437 - acc: 0.8800\n",
      "Epoch 19/50\n",
      "300/300 [==============================] - 0s 335us/step - loss: 0.3602 - acc: 0.8567\n",
      "Epoch 20/50\n",
      "300/300 [==============================] - 0s 443us/step - loss: 0.3342 - acc: 0.8933\n",
      "Epoch 21/50\n",
      "300/300 [==============================] - 0s 473us/step - loss: 0.4179 - acc: 0.8133\n",
      "Epoch 22/50\n",
      "300/300 [==============================] - 0s 579us/step - loss: 0.3803 - acc: 0.8033\n",
      "Epoch 23/50\n",
      "300/300 [==============================] - 0s 323us/step - loss: 0.4207 - acc: 0.8300\n",
      "Epoch 24/50\n",
      "300/300 [==============================] - 0s 370us/step - loss: 0.2717 - acc: 0.9167\n",
      "Epoch 25/50\n",
      "300/300 [==============================] - 0s 361us/step - loss: 0.3237 - acc: 0.8700\n",
      "Epoch 26/50\n",
      "300/300 [==============================] - 0s 338us/step - loss: 0.3900 - acc: 0.8067\n",
      "Epoch 27/50\n",
      "300/300 [==============================] - 0s 339us/step - loss: 0.2719 - acc: 0.9033\n",
      "Epoch 28/50\n",
      "300/300 [==============================] - 0s 377us/step - loss: 0.3318 - acc: 0.8733\n",
      "Epoch 29/50\n",
      "300/300 [==============================] - 0s 399us/step - loss: 0.2898 - acc: 0.8967 0s - loss: 0.2670 - acc: 0.916\n",
      "Epoch 30/50\n",
      "300/300 [==============================] - 0s 339us/step - loss: 0.2151 - acc: 0.9500\n",
      "Epoch 31/50\n",
      "300/300 [==============================] - 0s 427us/step - loss: 0.2308 - acc: 0.9500\n",
      "Epoch 32/50\n",
      "300/300 [==============================] - 0s 387us/step - loss: 0.2357 - acc: 0.9133\n",
      "Epoch 33/50\n",
      "300/300 [==============================] - 0s 587us/step - loss: 0.2177 - acc: 0.9300\n",
      "Epoch 34/50\n",
      "300/300 [==============================] - 0s 400us/step - loss: 0.2106 - acc: 0.9000\n",
      "Epoch 35/50\n",
      "300/300 [==============================] - 0s 517us/step - loss: 0.2803 - acc: 0.8900\n",
      "Epoch 36/50\n",
      "300/300 [==============================] - 0s 435us/step - loss: 0.2690 - acc: 0.9067\n",
      "Epoch 37/50\n",
      "300/300 [==============================] - 0s 412us/step - loss: 0.2348 - acc: 0.9133\n",
      "Epoch 38/50\n",
      "300/300 [==============================] - 0s 446us/step - loss: 0.1909 - acc: 0.9400\n",
      "Epoch 39/50\n",
      "300/300 [==============================] - 0s 423us/step - loss: 0.3079 - acc: 0.8733\n",
      "Epoch 40/50\n",
      "300/300 [==============================] - 0s 390us/step - loss: 0.1530 - acc: 0.9567\n",
      "Epoch 41/50\n",
      "300/300 [==============================] - 0s 320us/step - loss: 0.1741 - acc: 0.9433\n",
      "Epoch 42/50\n",
      "300/300 [==============================] - 0s 353us/step - loss: 0.1458 - acc: 0.9600\n",
      "Epoch 43/50\n",
      "300/300 [==============================] - 0s 335us/step - loss: 0.1842 - acc: 0.9367\n",
      "Epoch 44/50\n",
      "300/300 [==============================] - 0s 642us/step - loss: 0.1423 - acc: 0.9567\n",
      "Epoch 45/50\n",
      "300/300 [==============================] - 0s 453us/step - loss: 0.1404 - acc: 0.9567\n",
      "Epoch 46/50\n",
      "300/300 [==============================] - 0s 480us/step - loss: 0.2625 - acc: 0.8700\n",
      "Epoch 47/50\n",
      "300/300 [==============================] - 0s 400us/step - loss: 0.1580 - acc: 0.9433\n",
      "Epoch 48/50\n",
      "300/300 [==============================] - 0s 360us/step - loss: 0.1283 - acc: 0.9567\n",
      "Epoch 49/50\n",
      "300/300 [==============================] - 0s 280us/step - loss: 0.1213 - acc: 0.9633\n",
      "Epoch 50/50\n",
      "300/300 [==============================] - 0s 377us/step - loss: 0.2742 - acc: 0.8800\n"
     ]
    },
    {
     "data": {
      "text/plain": [
       "array([[0., 1., 0.]], dtype=float32)"
      ]
     },
     "execution_count": 4,
     "metadata": {},
     "output_type": "execute_result"
    }
   ],
   "source": [
    "model=create_baseline_SGD()\n",
    "labels = to_categorical(Y_train, num_classes=3)\n",
    "model.fit(X_train, labels,epochs=50, batch_size=32)\n",
    "\n",
    "\n",
    "X_test= generate_a_disk()\n",
    "X_test = X_test.reshape(1, X_test.shape[0])\n",
    "model.predict(X_test)"
   ]
  },
  {
   "cell_type": "code",
   "execution_count": 5,
   "metadata": {},
   "outputs": [
    {
     "name": "stdout",
     "output_type": "stream",
     "text": [
      "Epoch 1/50\n",
      "300/300 [==============================] - 1s 2ms/step - loss: 1.7024 - acc: 0.4233\n",
      "Epoch 2/50\n",
      "300/300 [==============================] - 0s 482us/step - loss: 1.0810 - acc: 0.4967\n",
      "Epoch 3/50\n",
      "300/300 [==============================] - 0s 456us/step - loss: 0.9901 - acc: 0.5933\n",
      "Epoch 4/50\n",
      "300/300 [==============================] - ETA: 0s - loss: 0.9074 - acc: 0.598 - 0s 445us/step - loss: 0.9096 - acc: 0.6100\n",
      "Epoch 5/50\n",
      "300/300 [==============================] - 0s 426us/step - loss: 0.8504 - acc: 0.6733\n",
      "Epoch 6/50\n",
      "300/300 [==============================] - 0s 425us/step - loss: 0.7752 - acc: 0.7267\n",
      "Epoch 7/50\n",
      "300/300 [==============================] - 0s 462us/step - loss: 0.7263 - acc: 0.7300\n",
      "Epoch 8/50\n",
      "300/300 [==============================] - 0s 507us/step - loss: 0.6743 - acc: 0.7967\n",
      "Epoch 9/50\n",
      "300/300 [==============================] - 0s 451us/step - loss: 0.6376 - acc: 0.8033\n",
      "Epoch 10/50\n",
      "300/300 [==============================] - 0s 409us/step - loss: 0.5852 - acc: 0.8267\n",
      "Epoch 11/50\n",
      "300/300 [==============================] - 0s 380us/step - loss: 0.5237 - acc: 0.8733\n",
      "Epoch 12/50\n",
      "300/300 [==============================] - 0s 406us/step - loss: 0.4680 - acc: 0.9000\n",
      "Epoch 13/50\n",
      "300/300 [==============================] - 0s 420us/step - loss: 0.4235 - acc: 0.9333\n",
      "Epoch 14/50\n",
      "300/300 [==============================] - 0s 380us/step - loss: 0.4118 - acc: 0.9200\n",
      "Epoch 15/50\n",
      "300/300 [==============================] - 0s 399us/step - loss: 0.3457 - acc: 0.9300\n",
      "Epoch 16/50\n",
      "300/300 [==============================] - 0s 548us/step - loss: 0.3247 - acc: 0.9333\n",
      "Epoch 17/50\n",
      "300/300 [==============================] - 0s 875us/step - loss: 0.3020 - acc: 0.9600\n",
      "Epoch 18/50\n",
      "300/300 [==============================] - 0s 521us/step - loss: 0.2680 - acc: 0.9400\n",
      "Epoch 19/50\n",
      "300/300 [==============================] - 0s 686us/step - loss: 0.2467 - acc: 0.9667\n",
      "Epoch 20/50\n",
      "300/300 [==============================] - 0s 633us/step - loss: 0.2135 - acc: 0.9833\n",
      "Epoch 21/50\n",
      "300/300 [==============================] - 0s 573us/step - loss: 0.1985 - acc: 0.9767\n",
      "Epoch 22/50\n",
      "300/300 [==============================] - 0s 532us/step - loss: 0.1842 - acc: 0.9800\n",
      "Epoch 23/50\n",
      "300/300 [==============================] - 0s 467us/step - loss: 0.1667 - acc: 0.9733\n",
      "Epoch 24/50\n",
      "300/300 [==============================] - 0s 360us/step - loss: 0.1610 - acc: 0.9833\n",
      "Epoch 25/50\n",
      "300/300 [==============================] - 0s 419us/step - loss: 0.1551 - acc: 0.9767\n",
      "Epoch 26/50\n",
      "300/300 [==============================] - 0s 438us/step - loss: 0.1460 - acc: 0.9833\n",
      "Epoch 27/50\n",
      "300/300 [==============================] - 0s 430us/step - loss: 0.1291 - acc: 0.9867\n",
      "Epoch 28/50\n",
      "300/300 [==============================] - 0s 487us/step - loss: 0.1306 - acc: 0.9867\n",
      "Epoch 29/50\n",
      "300/300 [==============================] - 0s 385us/step - loss: 0.1192 - acc: 0.9933\n",
      "Epoch 30/50\n",
      "300/300 [==============================] - 0s 380us/step - loss: 0.1196 - acc: 0.9867\n",
      "Epoch 31/50\n",
      "300/300 [==============================] - 0s 371us/step - loss: 0.1096 - acc: 0.9933\n",
      "Epoch 32/50\n",
      "300/300 [==============================] - 0s 520us/step - loss: 0.0951 - acc: 0.9967\n",
      "Epoch 33/50\n",
      "300/300 [==============================] - 0s 439us/step - loss: 0.0956 - acc: 0.9933\n",
      "Epoch 34/50\n",
      "300/300 [==============================] - 0s 462us/step - loss: 0.0825 - acc: 0.9967\n",
      "Epoch 35/50\n",
      "300/300 [==============================] - 0s 399us/step - loss: 0.0788 - acc: 0.9967\n",
      "Epoch 36/50\n",
      "300/300 [==============================] - 0s 433us/step - loss: 0.0776 - acc: 0.9967\n",
      "Epoch 37/50\n",
      "300/300 [==============================] - 0s 360us/step - loss: 0.0820 - acc: 0.9900\n",
      "Epoch 38/50\n",
      "300/300 [==============================] - 0s 320us/step - loss: 0.0881 - acc: 0.9800\n",
      "Epoch 39/50\n",
      "300/300 [==============================] - 0s 451us/step - loss: 0.0945 - acc: 0.9767\n",
      "Epoch 40/50\n",
      "300/300 [==============================] - 0s 445us/step - loss: 0.0738 - acc: 0.9900\n",
      "Epoch 41/50\n",
      "300/300 [==============================] - 0s 419us/step - loss: 0.0813 - acc: 0.9867\n",
      "Epoch 42/50\n",
      "300/300 [==============================] - 0s 425us/step - loss: 0.0584 - acc: 0.9967\n",
      "Epoch 43/50\n",
      "300/300 [==============================] - 0s 354us/step - loss: 0.0523 - acc: 0.9967\n",
      "Epoch 44/50\n",
      "300/300 [==============================] - 0s 532us/step - loss: 0.0514 - acc: 1.0000\n",
      "Epoch 45/50\n",
      "300/300 [==============================] - 0s 382us/step - loss: 0.0459 - acc: 1.0000\n",
      "Epoch 46/50\n",
      "300/300 [==============================] - 0s 431us/step - loss: 0.0503 - acc: 0.9967\n",
      "Epoch 47/50\n",
      "300/300 [==============================] - 0s 505us/step - loss: 0.0428 - acc: 1.0000\n",
      "Epoch 48/50\n",
      "300/300 [==============================] - 0s 527us/step - loss: 0.0408 - acc: 1.0000\n",
      "Epoch 49/50\n",
      "300/300 [==============================] - 0s 550us/step - loss: 0.0388 - acc: 1.0000\n",
      "Epoch 50/50\n",
      "300/300 [==============================] - 0s 622us/step - loss: 0.0377 - acc: 1.0000\n"
     ]
    },
    {
     "data": {
      "text/plain": [
       "array([[0., 1., 0.]], dtype=float32)"
      ]
     },
     "execution_count": 5,
     "metadata": {},
     "output_type": "execute_result"
    }
   ],
   "source": [
    "model=create_baseline_adam()\n",
    "labels = to_categorical(Y_train, num_classes=3)\n",
    "model.fit(X_train, labels,epochs=50, batch_size=32)\n",
    "\n",
    "\n",
    "X_test= generate_a_disk()\n",
    "X_test = X_test.reshape(1, X_test.shape[0])\n",
    "model.predict(X_test)"
   ]
  },
  {
   "cell_type": "markdown",
   "metadata": {},
   "source": [
    "First we observe that the Adam optimizer has a higher lever of complexity (computing time) but the loss is very low in comparison with SGD optimizer.\n",
    "We can conclude after several tests that the two classifiers seems to be relevant, because they predict successfully the right shape."
   ]
  },
  {
   "cell_type": "markdown",
   "metadata": {},
   "source": [
    "4 Visualization of the Solution\n",
    "\n",
    "We keep the Adam optimizer and we want to visualize the weights of this classifier as images."
   ]
  },
  {
   "cell_type": "code",
   "execution_count": 6,
   "metadata": {
    "scrolled": true
   },
   "outputs": [
    {
     "data": {
      "text/plain": [
       "<matplotlib.image.AxesImage at 0x2303bd3bdd8>"
      ]
     },
     "execution_count": 6,
     "metadata": {},
     "output_type": "execute_result"
    },
    {
     "data": {
      "image/png": "[encoded data removed]",
      "text/plain": [
       "<Figure size 432x288 with 3 Axes>"
      ]
     },
     "metadata": {
      "needs_background": "light"
     },
     "output_type": "display_data"
    }
   ],
   "source": [
    "column1=model.get_weights()[0][:,0]\n",
    "column2=model.get_weights()[0][:,1]\n",
    "column3=model.get_weights()[0][:,2]\n",
    "\n",
    "IMAGE_SIZE = 72\n",
    "plt.subplot(1,3,1)\n",
    "plt.imshow(column1.reshape(IMAGE_SIZE,IMAGE_SIZE), cmap='gray')\n",
    "plt.subplot(1,3,2)\n",
    "plt.imshow(column2.reshape(IMAGE_SIZE,IMAGE_SIZE), cmap='gray')\n",
    "plt.subplot(1,3,3)\n",
    "plt.imshow(column3.reshape(IMAGE_SIZE,IMAGE_SIZE), cmap='gray')"
   ]
  },
  {
   "cell_type": "markdown",
   "metadata": {},
   "source": [
    "We visualize the three columns and we note that it is very hard to distinguish the three shapes.\n"
   ]
  },
  {
   "cell_type": "markdown",
   "metadata": {},
   "source": [
    "5 A More Difficult Classification problem\n",
    "\n",
    "We train our Adam classifier on a training set of 300 images with geometric shapes (which have now a free location)\n"
   ]
  },
  {
   "cell_type": "code",
   "execution_count": 7,
   "metadata": {},
   "outputs": [
    {
     "name": "stdout",
     "output_type": "stream",
     "text": [
      "Creating data:\n",
      "0\n",
      "10\n",
      "20\n",
      "30\n",
      "40\n",
      "50\n",
      "60\n",
      "70\n",
      "80\n",
      "90\n",
      "100\n",
      "110\n",
      "120\n",
      "130\n",
      "140\n",
      "150\n",
      "160\n",
      "170\n",
      "180\n",
      "190\n",
      "200\n",
      "210\n",
      "220\n",
      "230\n",
      "240\n",
      "250\n",
      "260\n",
      "270\n",
      "280\n",
      "290\n",
      "Epoch 1/50\n",
      "300/300 [==============================] - 1s 2ms/step - loss: 2.2159 - acc: 0.3433\n",
      "Epoch 2/50\n",
      "300/300 [==============================] - 0s 693us/step - loss: 1.1704 - acc: 0.3233\n",
      "Epoch 3/50\n",
      "300/300 [==============================] - 0s 613us/step - loss: 1.1431 - acc: 0.3667\n",
      "Epoch 4/50\n",
      "300/300 [==============================] - 0s 633us/step - loss: 1.1534 - acc: 0.3733\n",
      "Epoch 5/50\n",
      "300/300 [==============================] - 0s 733us/step - loss: 1.0651 - acc: 0.4167\n",
      "Epoch 6/50\n",
      "300/300 [==============================] - 0s 520us/step - loss: 1.0476 - acc: 0.4333\n",
      "Epoch 7/50\n",
      "300/300 [==============================] - 0s 533us/step - loss: 1.0717 - acc: 0.3600\n",
      "Epoch 8/50\n",
      "300/300 [==============================] - 0s 653us/step - loss: 1.0722 - acc: 0.4033\n",
      "Epoch 9/50\n",
      "300/300 [==============================] - 0s 540us/step - loss: 1.0517 - acc: 0.4067\n",
      "Epoch 10/50\n",
      "300/300 [==============================] - 0s 536us/step - loss: 1.0465 - acc: 0.4167\n",
      "Epoch 11/50\n",
      "300/300 [==============================] - 0s 453us/step - loss: 1.0404 - acc: 0.4133\n",
      "Epoch 12/50\n",
      "300/300 [==============================] - 0s 480us/step - loss: 1.0252 - acc: 0.4200\n",
      "Epoch 13/50\n",
      "300/300 [==============================] - 0s 610us/step - loss: 1.0671 - acc: 0.3833\n",
      "Epoch 14/50\n",
      "300/300 [==============================] - 0s 496us/step - loss: 1.0189 - acc: 0.4100\n",
      "Epoch 15/50\n",
      "300/300 [==============================] - 0s 713us/step - loss: 1.0632 - acc: 0.4033\n",
      "Epoch 16/50\n",
      "300/300 [==============================] - 0s 526us/step - loss: 1.0732 - acc: 0.3767\n",
      "Epoch 17/50\n",
      "300/300 [==============================] - 0s 300us/step - loss: 0.9908 - acc: 0.4433\n",
      "Epoch 18/50\n",
      "300/300 [==============================] - 0s 373us/step - loss: 1.0108 - acc: 0.4400\n",
      "Epoch 19/50\n",
      "300/300 [==============================] - 0s 436us/step - loss: 0.9705 - acc: 0.4433\n",
      "Epoch 20/50\n",
      "300/300 [==============================] - 0s 563us/step - loss: 1.0064 - acc: 0.4233\n",
      "Epoch 21/50\n",
      "300/300 [==============================] - 0s 623us/step - loss: 0.9908 - acc: 0.4200\n",
      "Epoch 22/50\n",
      "300/300 [==============================] - 0s 590us/step - loss: 0.9762 - acc: 0.4567\n",
      "Epoch 23/50\n",
      "300/300 [==============================] - 0s 610us/step - loss: 0.9990 - acc: 0.4267\n",
      "Epoch 24/50\n",
      "300/300 [==============================] - 0s 453us/step - loss: 0.9585 - acc: 0.4533\n",
      "Epoch 25/50\n",
      "300/300 [==============================] - 0s 450us/step - loss: 0.9395 - acc: 0.4433\n",
      "Epoch 26/50\n",
      "300/300 [==============================] - 0s 543us/step - loss: 0.9417 - acc: 0.4467\n",
      "Epoch 27/50\n",
      "300/300 [==============================] - 0s 520us/step - loss: 0.9463 - acc: 0.4400\n",
      "Epoch 28/50\n",
      "300/300 [==============================] - 0s 616us/step - loss: 0.9155 - acc: 0.4567\n",
      "Epoch 29/50\n",
      "300/300 [==============================] - 0s 526us/step - loss: 0.9133 - acc: 0.5133\n",
      "Epoch 30/50\n",
      "300/300 [==============================] - 0s 526us/step - loss: 0.9535 - acc: 0.5633\n",
      "Epoch 31/50\n",
      "300/300 [==============================] - 0s 663us/step - loss: 0.9024 - acc: 0.6000\n",
      "Epoch 32/50\n",
      "300/300 [==============================] - 0s 690us/step - loss: 0.8969 - acc: 0.5700\n",
      "Epoch 33/50\n",
      "300/300 [==============================] - 0s 696us/step - loss: 0.8922 - acc: 0.6033\n",
      "Epoch 34/50\n",
      "300/300 [==============================] - 0s 556us/step - loss: 0.9011 - acc: 0.5733\n",
      "Epoch 35/50\n",
      "300/300 [==============================] - 0s 643us/step - loss: 0.8781 - acc: 0.6133\n",
      "Epoch 36/50\n",
      "300/300 [==============================] - 0s 600us/step - loss: 0.8511 - acc: 0.6433\n",
      "Epoch 37/50\n",
      "300/300 [==============================] - 0s 653us/step - loss: 0.8558 - acc: 0.6133\n",
      "Epoch 38/50\n",
      "300/300 [==============================] - 0s 846us/step - loss: 0.8665 - acc: 0.6033\n",
      "Epoch 39/50\n",
      "300/300 [==============================] - 0s 586us/step - loss: 0.8756 - acc: 0.6200\n",
      "Epoch 40/50\n",
      "300/300 [==============================] - 0s 613us/step - loss: 0.8577 - acc: 0.5900\n",
      "Epoch 41/50\n",
      "300/300 [==============================] - 0s 673us/step - loss: 0.8833 - acc: 0.6133\n",
      "Epoch 42/50\n",
      "300/300 [==============================] - 0s 570us/step - loss: 0.8741 - acc: 0.6000\n",
      "Epoch 43/50\n",
      "300/300 [==============================] - 0s 613us/step - loss: 0.8320 - acc: 0.6333\n",
      "Epoch 44/50\n",
      "300/300 [==============================] - 0s 776us/step - loss: 0.8978 - acc: 0.6000\n",
      "Epoch 45/50\n",
      "300/300 [==============================] - 0s 603us/step - loss: 0.7837 - acc: 0.6800 0s - loss: 0.7842 - acc: 0.66\n",
      "Epoch 46/50\n",
      "300/300 [==============================] - 0s 510us/step - loss: 0.8791 - acc: 0.5867\n",
      "Epoch 47/50\n",
      "300/300 [==============================] - 0s 470us/step - loss: 0.8670 - acc: 0.5800\n",
      "Epoch 48/50\n",
      "300/300 [==============================] - 0s 480us/step - loss: 0.7855 - acc: 0.6367\n",
      "Epoch 49/50\n",
      "300/300 [==============================] - 0s 899us/step - loss: 0.7613 - acc: 0.6300\n",
      "Epoch 50/50\n",
      "300/300 [==============================] - 0s 523us/step - loss: 0.7439 - acc: 0.6467\n",
      "Creating data:\n",
      "0\n",
      "10\n",
      "20\n",
      "30\n",
      "40\n",
      "50\n",
      "60\n",
      "70\n",
      "80\n",
      "90\n",
      "100\n",
      "110\n",
      "120\n",
      "130\n",
      "140\n",
      "150\n",
      "160\n",
      "170\n",
      "180\n",
      "190\n",
      "200\n",
      "210\n",
      "220\n",
      "230\n",
      "240\n",
      "250\n",
      "260\n",
      "270\n",
      "280\n",
      "290\n"
     ]
    }
   ],
   "source": [
    "[X_train, Y_train] = generate_dataset_classification(300, 20, True)\n",
    "\n",
    "model=create_baseline_adam()\n",
    "labels = to_categorical(Y_train, num_classes=3)\n",
    "model.fit(X_train, labels,epochs=50, batch_size=32)\n",
    "\n",
    "\n"
   ]
  },
  {
   "cell_type": "markdown",
   "metadata": {},
   "source": [
    "Now we test it on a test set."
   ]
  },
  {
   "cell_type": "code",
   "execution_count": 8,
   "metadata": {},
   "outputs": [
    {
     "name": "stdout",
     "output_type": "stream",
     "text": [
      "Creating data:\n",
      "0\n",
      "10\n",
      "20\n",
      "30\n",
      "40\n",
      "50\n",
      "60\n",
      "70\n",
      "80\n",
      "90\n",
      "100\n",
      "110\n",
      "120\n",
      "130\n",
      "140\n",
      "150\n",
      "160\n",
      "170\n",
      "180\n",
      "190\n",
      "200\n",
      "210\n",
      "220\n",
      "230\n",
      "240\n",
      "250\n",
      "260\n",
      "270\n",
      "280\n",
      "290\n",
      "300/300 [==============================] - 0s 1ms/step\n"
     ]
    },
    {
     "data": {
      "text/plain": [
       "[0.8585142962137858, 0.5633333333333334]"
      ]
     },
     "execution_count": 8,
     "metadata": {},
     "output_type": "execute_result"
    }
   ],
   "source": [
    "[X_test, Y_test] = generate_test_set_classification()\n",
    "model.evaluate(X_test, Y_test)\n"
   ]
  },
  {
   "cell_type": "markdown",
   "metadata": {},
   "source": [
    "So the loss is 0.86 and the accuracy is 0.56.\n",
    "\n",
    "The result is disappointing and we can conclude that this classifier is not adequate anymore. \n",
    "\n",
    "In order to improve these results, we can build a convolutional network.\n",
    "There are 1 convolutional layer with 16 5x5 filters, 1 pooling layer and one fully connected layer."
   ]
  },
  {
   "cell_type": "code",
   "execution_count": 11,
   "metadata": {},
   "outputs": [
    {
     "name": "stdout",
     "output_type": "stream",
     "text": [
      "Epoch 1/50\n",
      "300/300 [==============================] - 2s 8ms/step - loss: 1.0849 - acc: 0.3900A: 0s - loss: 1.1046 - acc: 0.3\n",
      "Epoch 2/50\n",
      "300/300 [==============================] - 2s 6ms/step - loss: 0.8989 - acc: 0.6600\n",
      "Epoch 3/50\n",
      "300/300 [==============================] - 2s 6ms/step - loss: 0.7575 - acc: 0.7700\n",
      "Epoch 4/50\n",
      "300/300 [==============================] - 2s 6ms/step - loss: 0.6468 - acc: 0.7667\n",
      "Epoch 5/50\n",
      "300/300 [==============================] - 2s 6ms/step - loss: 0.5763 - acc: 0.8100\n",
      "Epoch 6/50\n",
      "300/300 [==============================] - 2s 7ms/step - loss: 0.4860 - acc: 0.8800\n",
      "Epoch 7/50\n",
      "300/300 [==============================] - 2s 6ms/step - loss: 0.4922 - acc: 0.8467\n",
      "Epoch 8/50\n",
      "300/300 [==============================] - 2s 7ms/step - loss: 0.4149 - acc: 0.8667\n",
      "Epoch 9/50\n",
      "300/300 [==============================] - 2s 6ms/step - loss: 0.3682 - acc: 0.9167\n",
      "Epoch 10/50\n",
      "300/300 [==============================] - 2s 7ms/step - loss: 0.3341 - acc: 0.9400\n",
      "Epoch 11/50\n",
      "300/300 [==============================] - 2s 7ms/step - loss: 0.3208 - acc: 0.9233\n",
      "Epoch 12/50\n",
      "300/300 [==============================] - 2s 6ms/step - loss: 0.2816 - acc: 0.9500\n",
      "Epoch 13/50\n",
      "300/300 [==============================] - 2s 7ms/step - loss: 0.2540 - acc: 0.9600\n",
      "Epoch 14/50\n",
      "300/300 [==============================] - 2s 7ms/step - loss: 0.2257 - acc: 0.9733A: 0s - loss: 0.2219 - acc: 0.9\n",
      "Epoch 15/50\n",
      "300/300 [==============================] - 2s 7ms/step - loss: 0.2271 - acc: 0.9600\n",
      "Epoch 16/50\n",
      "300/300 [==============================] - 2s 7ms/step - loss: 0.1879 - acc: 0.9867\n",
      "Epoch 17/50\n",
      "300/300 [==============================] - 2s 7ms/step - loss: 0.1729 - acc: 0.9767\n",
      "Epoch 18/50\n",
      "300/300 [==============================] - 2s 7ms/step - loss: 0.1632 - acc: 0.9967\n",
      "Epoch 19/50\n",
      "300/300 [==============================] - 2s 7ms/step - loss: 0.1751 - acc: 0.9867\n",
      "Epoch 20/50\n",
      "300/300 [==============================] - 2s 8ms/step - loss: 0.1463 - acc: 0.9867\n",
      "Epoch 21/50\n",
      "300/300 [==============================] - 2s 7ms/step - loss: 0.1355 - acc: 0.9933\n",
      "Epoch 22/50\n",
      "300/300 [==============================] - 2s 7ms/step - loss: 0.1166 - acc: 1.0000\n",
      "Epoch 23/50\n",
      "300/300 [==============================] - 2s 6ms/step - loss: 0.1064 - acc: 1.0000\n",
      "Epoch 24/50\n",
      "300/300 [==============================] - 3s 9ms/step - loss: 0.1031 - acc: 0.9967\n",
      "Epoch 25/50\n",
      "300/300 [==============================] - 2s 7ms/step - loss: 0.0896 - acc: 1.0000\n",
      "Epoch 26/50\n",
      "300/300 [==============================] - 2s 7ms/step - loss: 0.0845 - acc: 1.0000\n",
      "Epoch 27/50\n",
      "300/300 [==============================] - 2s 8ms/step - loss: 0.0806 - acc: 1.0000\n",
      "Epoch 28/50\n",
      "300/300 [==============================] - 2s 6ms/step - loss: 0.0752 - acc: 1.0000\n",
      "Epoch 29/50\n",
      "300/300 [==============================] - 2s 7ms/step - loss: 0.0691 - acc: 1.0000\n",
      "Epoch 30/50\n",
      "300/300 [==============================] - 2s 6ms/step - loss: 0.0676 - acc: 1.0000\n",
      "Epoch 31/50\n",
      "300/300 [==============================] - 2s 6ms/step - loss: 0.0668 - acc: 1.0000\n",
      "Epoch 32/50\n",
      "300/300 [==============================] - 2s 6ms/step - loss: 0.0667 - acc: 1.0000\n",
      "Epoch 33/50\n",
      "300/300 [==============================] - 2s 6ms/step - loss: 0.0665 - acc: 0.9967\n",
      "Epoch 34/50\n",
      "300/300 [==============================] - 2s 6ms/step - loss: 0.0574 - acc: 1.0000\n",
      "Epoch 35/50\n",
      "300/300 [==============================] - 2s 7ms/step - loss: 0.0548 - acc: 1.0000\n",
      "Epoch 36/50\n",
      "300/300 [==============================] - 3s 9ms/step - loss: 0.0503 - acc: 1.0000\n",
      "Epoch 37/50\n",
      "300/300 [==============================] - 2s 7ms/step - loss: 0.0404 - acc: 1.0000\n",
      "Epoch 38/50\n",
      "300/300 [==============================] - 2s 7ms/step - loss: 0.0410 - acc: 1.0000\n",
      "Epoch 39/50\n",
      "300/300 [==============================] - 2s 8ms/step - loss: 0.0365 - acc: 1.0000\n",
      "Epoch 40/50\n",
      "300/300 [==============================] - 2s 7ms/step - loss: 0.0345 - acc: 1.0000\n",
      "Epoch 41/50\n",
      "300/300 [==============================] - 2s 7ms/step - loss: 0.0334 - acc: 1.0000\n",
      "Epoch 42/50\n",
      "300/300 [==============================] - 2s 6ms/step - loss: 0.0308 - acc: 1.0000\n",
      "Epoch 43/50\n",
      "300/300 [==============================] - 2s 7ms/step - loss: 0.0289 - acc: 1.0000\n",
      "Epoch 44/50\n",
      "300/300 [==============================] - 2s 6ms/step - loss: 0.0286 - acc: 1.0000\n",
      "Epoch 45/50\n",
      "300/300 [==============================] - 2s 7ms/step - loss: 0.0265 - acc: 1.0000\n",
      "Epoch 46/50\n",
      "300/300 [==============================] - 2s 7ms/step - loss: 0.0274 - acc: 1.0000\n",
      "Epoch 47/50\n",
      "300/300 [==============================] - 2s 6ms/step - loss: 0.0275 - acc: 1.0000\n",
      "Epoch 48/50\n",
      "300/300 [==============================] - 2s 8ms/step - loss: 0.0261 - acc: 1.0000\n",
      "Epoch 49/50\n",
      "300/300 [==============================] - 2s 8ms/step - loss: 0.0256 - acc: 1.0000\n",
      "Epoch 50/50\n",
      "300/300 [==============================] - 2s 7ms/step - loss: 0.0253 - acc: 1.0000\n"
     ]
    },
    {
     "data": {
      "text/plain": [
       "<keras.callbacks.History at 0x23035855f60>"
      ]
     },
     "execution_count": 11,
     "metadata": {},
     "output_type": "execute_result"
    }
   ],
   "source": [
    "def create_baseline_conv():\n",
    "    model = Sequential()\n",
    "    \n",
    "    model.add(Convolution2D(16, (5, 5), activation='relu', input_shape=(72,72,1)))\n",
    "    model.add(MaxPooling2D(pool_size=(2, 2), strides=None, padding='valid', data_format=None))\n",
    "    \n",
    "    model.add(Flatten())\n",
    "    \n",
    "    model.add(Dense(3, activation='softmax'))\n",
    "    model.compile(loss='categorical_crossentropy', optimizer='adam', metrics=['accuracy'])\n",
    "\n",
    "    return model\n",
    "\n",
    "model=create_baseline_conv()\n",
    "labels = to_categorical(Y_train, num_classes=3)\n",
    "\n",
    "test = X_train.reshape(X_train.shape[0], 72, 72 , 1)\n",
    "\n",
    "model.fit(test, labels,epochs=50, batch_size=32)\n",
    "\n",
    "\n"
   ]
  },
  {
   "cell_type": "markdown",
   "metadata": {},
   "source": [
    "The computional time is higher than previous classifiers because the model is more complex. "
   ]
  },
  {
   "cell_type": "code",
   "execution_count": 12,
   "metadata": {},
   "outputs": [
    {
     "name": "stdout",
     "output_type": "stream",
     "text": [
      "Creating data:\n",
      "0\n",
      "10\n",
      "20\n",
      "30\n",
      "40\n",
      "50\n",
      "60\n",
      "70\n",
      "80\n",
      "90\n",
      "100\n",
      "110\n",
      "120\n",
      "130\n",
      "140\n",
      "150\n",
      "160\n",
      "170\n",
      "180\n",
      "190\n",
      "200\n",
      "210\n",
      "220\n",
      "230\n",
      "240\n",
      "250\n",
      "260\n",
      "270\n",
      "280\n",
      "290\n",
      "300/300 [==============================] - 1s 4ms/step\n"
     ]
    },
    {
     "data": {
      "text/plain": [
       "[0.8005096546808879, 0.7399999992052714]"
      ]
     },
     "execution_count": 12,
     "metadata": {},
     "output_type": "execute_result"
    }
   ],
   "source": [
    "[X_test, Y_test] = generate_test_set_classification()\n",
    "test2=X_test.reshape(X_test.shape[0], 72, 72 , 1)\n",
    "model.evaluate(test2, Y_test)"
   ]
  },
  {
   "cell_type": "markdown",
   "metadata": {},
   "source": [
    "The loss is 0.8 and has decreased somewhat. And the accuracy is 0.74 and has raised."
   ]
  },
  {
   "cell_type": "markdown",
   "metadata": {},
   "source": [
    "6 A regression problem\n",
    "\n",
    "We want now to predict the images locations of the vertices of a triangle."
   ]
  },
  {
   "cell_type": "code",
   "execution_count": 2,
   "metadata": {},
   "outputs": [
    {
     "name": "stdout",
     "output_type": "stream",
     "text": [
      "Creating data:\n",
      "0\n",
      "10\n",
      "20\n",
      "30\n",
      "40\n",
      "50\n",
      "60\n",
      "70\n",
      "80\n",
      "90\n",
      "100\n",
      "110\n",
      "120\n",
      "130\n",
      "140\n",
      "150\n",
      "160\n",
      "170\n",
      "180\n",
      "190\n",
      "200\n",
      "210\n",
      "220\n",
      "230\n",
      "240\n",
      "250\n",
      "260\n",
      "270\n",
      "280\n",
      "290\n"
     ]
    },
    {
     "data": {
      "image/png": "[encoded data removed]",
      "text/plain": [
       "<Figure size 360x360 with 1 Axes>"
      ]
     },
     "metadata": {
      "needs_background": "light"
     },
     "output_type": "display_data"
    }
   ],
   "source": [
    "[X_train, Y_train] = generate_dataset_regression(300, 20)\n",
    "visualize_prediction(X_train[0], Y_train[0])"
   ]
  },
  {
   "cell_type": "markdown",
   "metadata": {},
   "source": [
    "Y_train[i] is composed of coordinates of the 3 vertices : U[0], V[0], U[1], V[1], U[2], V[2]\n",
    "\n",
    "So we build and train a regressor on this data.\n",
    "\n",
    "First, I try to use the Sklearn linear regression."
   ]
  },
  {
   "cell_type": "code",
   "execution_count": 3,
   "metadata": {},
   "outputs": [
    {
     "data": {
      "text/plain": [
       "LinearRegression(copy_X=True, fit_intercept=True, n_jobs=None,\n",
       "         normalize=False)"
      ]
     },
     "execution_count": 3,
     "metadata": {},
     "output_type": "execute_result"
    }
   ],
   "source": [
    "from sklearn import linear_model\n",
    "from sklearn.preprocessing import normalize\n",
    "\n",
    "regr = linear_model.LinearRegression()\n",
    "\n",
    "Y_train_n=normalize(Y_train,norm='l1')\n",
    "\n",
    "regr.fit(X_train, Y_train)"
   ]
  },
  {
   "cell_type": "code",
   "execution_count": null,
   "metadata": {},
   "outputs": [],
   "source": [
    "[X_test, Y_test] = generate_test_set_regression()\n",
    "\n",
    "Y_pred=regr.predict(X_test)\n",
    "visualize_prediction(X_test[2], Y_pred[2])"
   ]
  },
  {
   "cell_type": "markdown",
   "metadata": {},
   "source": [
    "The results are pretty bad because the predict vertices don't match with the real ones.\n",
    "\n",
    "So now I try with a keras regressor."
   ]
  },
  {
   "cell_type": "code",
   "execution_count": 16,
   "metadata": {},
   "outputs": [
    {
     "name": "stdout",
     "output_type": "stream",
     "text": [
      "Epoch 1/100\n",
      "300/300 [==============================] - 4s 15ms/step - loss: 0.0871 - acc: 0.1733\n",
      "Epoch 2/100\n",
      "300/300 [==============================] - 2s 7ms/step - loss: 0.0444 - acc: 0.1900\n",
      "Epoch 3/100\n",
      "300/300 [==============================] - 2s 7ms/step - loss: 0.0450 - acc: 0.1500\n",
      "Epoch 4/100\n",
      "300/300 [==============================] - 2s 6ms/step - loss: 0.0430 - acc: 0.1733\n",
      "Epoch 5/100\n",
      "300/300 [==============================] - 2s 6ms/step - loss: 0.0423 - acc: 0.1800\n",
      "Epoch 6/100\n",
      "300/300 [==============================] - 2s 6ms/step - loss: 0.0418 - acc: 0.2200\n",
      "Epoch 7/100\n",
      "300/300 [==============================] - 2s 6ms/step - loss: 0.0410 - acc: 0.2200\n",
      "Epoch 8/100\n",
      "300/300 [==============================] - 2s 6ms/step - loss: 0.0408 - acc: 0.2400\n",
      "Epoch 9/100\n",
      "300/300 [==============================] - 2s 6ms/step - loss: 0.0398 - acc: 0.2267\n",
      "Epoch 10/100\n",
      "300/300 [==============================] - 2s 6ms/step - loss: 0.0395 - acc: 0.2333\n",
      "Epoch 11/100\n",
      "300/300 [==============================] - 2s 6ms/step - loss: 0.0386 - acc: 0.2367\n",
      "Epoch 12/100\n",
      "300/300 [==============================] - 2s 6ms/step - loss: 0.0388 - acc: 0.2467\n",
      "Epoch 13/100\n",
      "300/300 [==============================] - 2s 6ms/step - loss: 0.0386 - acc: 0.2600A: 0s - loss: 0.0390 - acc: 0.2\n",
      "Epoch 14/100\n",
      "300/300 [==============================] - 2s 6ms/step - loss: 0.0381 - acc: 0.2533\n",
      "Epoch 15/100\n",
      "300/300 [==============================] - 2s 6ms/step - loss: 0.0378 - acc: 0.2800\n",
      "Epoch 16/100\n",
      "300/300 [==============================] - 2s 6ms/step - loss: 0.0373 - acc: 0.2533\n",
      "Epoch 17/100\n",
      "300/300 [==============================] - 2s 6ms/step - loss: 0.0371 - acc: 0.2700\n",
      "Epoch 18/100\n",
      "300/300 [==============================] - 2s 6ms/step - loss: 0.0366 - acc: 0.2900\n",
      "Epoch 19/100\n",
      "300/300 [==============================] - 2s 7ms/step - loss: 0.0361 - acc: 0.2900\n",
      "Epoch 20/100\n",
      "300/300 [==============================] - 2s 6ms/step - loss: 0.0360 - acc: 0.3200\n",
      "Epoch 21/100\n",
      "300/300 [==============================] - 2s 6ms/step - loss: 0.0359 - acc: 0.3133\n",
      "Epoch 22/100\n",
      "300/300 [==============================] - 2s 6ms/step - loss: 0.0355 - acc: 0.3067\n",
      "Epoch 23/100\n",
      "300/300 [==============================] - 2s 6ms/step - loss: 0.0351 - acc: 0.3300\n",
      "Epoch 24/100\n",
      "300/300 [==============================] - 2s 6ms/step - loss: 0.0357 - acc: 0.2700\n",
      "Epoch 25/100\n",
      "300/300 [==============================] - 2s 6ms/step - loss: 0.0347 - acc: 0.3133A: 1s - loss: 0.0355 - acc:\n",
      "Epoch 26/100\n",
      "300/300 [==============================] - 2s 6ms/step - loss: 0.0345 - acc: 0.2900\n",
      "Epoch 27/100\n",
      "300/300 [==============================] - 2s 6ms/step - loss: 0.0342 - acc: 0.3267\n",
      "Epoch 28/100\n",
      "300/300 [==============================] - 2s 6ms/step - loss: 0.0336 - acc: 0.3233\n",
      "Epoch 29/100\n",
      "300/300 [==============================] - 2s 7ms/step - loss: 0.0344 - acc: 0.2800\n",
      "Epoch 30/100\n",
      "300/300 [==============================] - 2s 7ms/step - loss: 0.0333 - acc: 0.3733\n",
      "Epoch 31/100\n",
      "300/300 [==============================] - 2s 7ms/step - loss: 0.0333 - acc: 0.3333\n",
      "Epoch 32/100\n",
      "300/300 [==============================] - 2s 7ms/step - loss: 0.0331 - acc: 0.3100\n",
      "Epoch 33/100\n",
      "300/300 [==============================] - 2s 7ms/step - loss: 0.0329 - acc: 0.3267\n",
      "Epoch 34/100\n",
      "300/300 [==============================] - 2s 7ms/step - loss: 0.0324 - acc: 0.3533\n",
      "Epoch 35/100\n",
      "300/300 [==============================] - 2s 6ms/step - loss: 0.0326 - acc: 0.3333\n",
      "Epoch 36/100\n",
      "300/300 [==============================] - 2s 6ms/step - loss: 0.0323 - acc: 0.3400\n",
      "Epoch 37/100\n",
      "300/300 [==============================] - 2s 7ms/step - loss: 0.0320 - acc: 0.3700\n",
      "Epoch 38/100\n",
      "300/300 [==============================] - 2s 6ms/step - loss: 0.0318 - acc: 0.3367\n",
      "Epoch 39/100\n",
      "300/300 [==============================] - 2s 6ms/step - loss: 0.0317 - acc: 0.3567\n",
      "Epoch 40/100\n",
      "300/300 [==============================] - 2s 8ms/step - loss: 0.0316 - acc: 0.3467\n",
      "Epoch 41/100\n",
      "300/300 [==============================] - 2s 7ms/step - loss: 0.0313 - acc: 0.3867\n",
      "Epoch 42/100\n",
      "300/300 [==============================] - 2s 6ms/step - loss: 0.0315 - acc: 0.3300\n",
      "Epoch 43/100\n",
      "300/300 [==============================] - 2s 6ms/step - loss: 0.0310 - acc: 0.3967\n",
      "Epoch 44/100\n",
      "300/300 [==============================] - 2s 6ms/step - loss: 0.0310 - acc: 0.3600\n",
      "Epoch 45/100\n",
      "300/300 [==============================] - 2s 7ms/step - loss: 0.0308 - acc: 0.3200\n",
      "Epoch 46/100\n",
      "300/300 [==============================] - 2s 7ms/step - loss: 0.0305 - acc: 0.3500\n",
      "Epoch 47/100\n",
      "300/300 [==============================] - 2s 6ms/step - loss: 0.0305 - acc: 0.3967\n",
      "Epoch 48/100\n",
      "300/300 [==============================] - 2s 6ms/step - loss: 0.0300 - acc: 0.3833\n",
      "Epoch 49/100\n",
      "300/300 [==============================] - 2s 7ms/step - loss: 0.0301 - acc: 0.3967\n",
      "Epoch 50/100\n",
      "300/300 [==============================] - 2s 7ms/step - loss: 0.0304 - acc: 0.3900\n",
      "Epoch 51/100\n",
      "300/300 [==============================] - 2s 6ms/step - loss: 0.0298 - acc: 0.3867\n",
      "Epoch 52/100\n",
      "300/300 [==============================] - 2s 7ms/step - loss: 0.0294 - acc: 0.4033A: 0s - loss: 0.0297 - acc: 0.41\n",
      "Epoch 53/100\n",
      "300/300 [==============================] - 3s 9ms/step - loss: 0.0299 - acc: 0.3600\n",
      "Epoch 54/100\n",
      "300/300 [==============================] - 3s 10ms/step - loss: 0.0292 - acc: 0.3967\n",
      "Epoch 55/100\n",
      "300/300 [==============================] - 3s 9ms/step - loss: 0.0292 - acc: 0.3967\n",
      "Epoch 56/100\n",
      "300/300 [==============================] - 2s 7ms/step - loss: 0.0289 - acc: 0.4300\n",
      "Epoch 57/100\n",
      "300/300 [==============================] - 3s 9ms/step - loss: 0.0289 - acc: 0.4400\n",
      "Epoch 58/100\n",
      "300/300 [==============================] - 2s 8ms/step - loss: 0.0291 - acc: 0.3800\n",
      "Epoch 59/100\n",
      "300/300 [==============================] - 2s 7ms/step - loss: 0.0288 - acc: 0.3467\n",
      "Epoch 60/100\n",
      "300/300 [==============================] - 3s 9ms/step - loss: 0.0285 - acc: 0.4233\n",
      "Epoch 61/100\n",
      "300/300 [==============================] - 3s 11ms/step - loss: 0.0285 - acc: 0.3833\n",
      "Epoch 62/100\n",
      "300/300 [==============================] - 2s 7ms/step - loss: 0.0287 - acc: 0.3700\n",
      "Epoch 63/100\n",
      "300/300 [==============================] - 3s 9ms/step - loss: 0.0281 - acc: 0.4167\n",
      "Epoch 64/100\n",
      "300/300 [==============================] - 2s 7ms/step - loss: 0.0282 - acc: 0.4067\n",
      "Epoch 65/100\n",
      "300/300 [==============================] - 2s 7ms/step - loss: 0.0279 - acc: 0.4167\n",
      "Epoch 66/100\n",
      "300/300 [==============================] - 2s 7ms/step - loss: 0.0278 - acc: 0.4000\n",
      "Epoch 67/100\n",
      "300/300 [==============================] - 2s 7ms/step - loss: 0.0278 - acc: 0.4233\n",
      "Epoch 68/100\n",
      "300/300 [==============================] - 2s 7ms/step - loss: 0.0275 - acc: 0.4333\n",
      "Epoch 69/100\n",
      "300/300 [==============================] - 3s 10ms/step - loss: 0.0273 - acc: 0.4100\n",
      "Epoch 70/100\n",
      "300/300 [==============================] - 2s 7ms/step - loss: 0.0275 - acc: 0.4100\n",
      "Epoch 71/100\n",
      "300/300 [==============================] - 2s 8ms/step - loss: 0.0270 - acc: 0.4233\n",
      "Epoch 72/100\n",
      "300/300 [==============================] - 3s 10ms/step - loss: 0.0271 - acc: 0.4333\n",
      "Epoch 73/100\n",
      "300/300 [==============================] - 2s 7ms/step - loss: 0.0270 - acc: 0.4067\n",
      "Epoch 74/100\n",
      "300/300 [==============================] - 2s 7ms/step - loss: 0.0270 - acc: 0.4133\n",
      "Epoch 75/100\n",
      "300/300 [==============================] - 3s 8ms/step - loss: 0.0266 - acc: 0.4400\n",
      "Epoch 76/100\n",
      "300/300 [==============================] - 3s 10ms/step - loss: 0.0265 - acc: 0.4267\n",
      "Epoch 77/100\n",
      "300/300 [==============================] - 2s 8ms/step - loss: 0.0264 - acc: 0.4533\n",
      "Epoch 78/100\n",
      "300/300 [==============================] - 2s 7ms/step - loss: 0.0266 - acc: 0.4300\n",
      "Epoch 79/100\n",
      "300/300 [==============================] - 2s 8ms/step - loss: 0.0263 - acc: 0.4333\n",
      "Epoch 80/100\n",
      "300/300 [==============================] - 2s 8ms/step - loss: 0.0261 - acc: 0.4300\n",
      "Epoch 81/100\n",
      "300/300 [==============================] - 2s 8ms/step - loss: 0.0260 - acc: 0.4500\n",
      "Epoch 82/100\n",
      "300/300 [==============================] - 2s 7ms/step - loss: 0.0263 - acc: 0.4467\n",
      "Epoch 83/100\n",
      "300/300 [==============================] - 2s 7ms/step - loss: 0.0258 - acc: 0.4500\n",
      "Epoch 84/100\n",
      "300/300 [==============================] - 2s 7ms/step - loss: 0.0260 - acc: 0.4200\n",
      "Epoch 85/100\n",
      "300/300 [==============================] - 2s 7ms/step - loss: 0.0255 - acc: 0.4367\n",
      "Epoch 86/100\n",
      "300/300 [==============================] - 2s 6ms/step - loss: 0.0255 - acc: 0.4333\n",
      "Epoch 87/100\n",
      "300/300 [==============================] - 3s 8ms/step - loss: 0.0254 - acc: 0.4600\n",
      "Epoch 88/100\n",
      "300/300 [==============================] - 2s 8ms/step - loss: 0.0254 - acc: 0.4667\n",
      "Epoch 89/100\n",
      "300/300 [==============================] - 2s 7ms/step - loss: 0.0251 - acc: 0.4800\n",
      "Epoch 90/100\n",
      "300/300 [==============================] - 2s 7ms/step - loss: 0.0249 - acc: 0.4767\n",
      "Epoch 91/100\n",
      "300/300 [==============================] - 2s 7ms/step - loss: 0.0251 - acc: 0.4633\n",
      "Epoch 92/100\n",
      "300/300 [==============================] - 2s 7ms/step - loss: 0.0248 - acc: 0.4433\n",
      "Epoch 93/100\n",
      "300/300 [==============================] - 3s 10ms/step - loss: 0.0249 - acc: 0.4233\n",
      "Epoch 94/100\n",
      "300/300 [==============================] - 2s 7ms/step - loss: 0.0248 - acc: 0.4433\n",
      "Epoch 95/100\n",
      "300/300 [==============================] - 2s 7ms/step - loss: 0.0246 - acc: 0.4600\n",
      "Epoch 96/100\n",
      "300/300 [==============================] - 2s 7ms/step - loss: 0.0243 - acc: 0.4333\n",
      "Epoch 97/100\n",
      "300/300 [==============================] - 2s 6ms/step - loss: 0.0243 - acc: 0.4733\n",
      "Epoch 98/100\n",
      "300/300 [==============================] - 2s 7ms/step - loss: 0.0244 - acc: 0.4700\n",
      "Epoch 99/100\n",
      "300/300 [==============================] - 2s 7ms/step - loss: 0.0242 - acc: 0.4400\n",
      "Epoch 100/100\n",
      "300/300 [==============================] - 2s 8ms/step - loss: 0.0240 - acc: 0.4433\n"
     ]
    },
    {
     "data": {
      "text/plain": [
       "<keras.callbacks.History at 0x1c1c02c3668>"
      ]
     },
     "execution_count": 16,
     "metadata": {},
     "output_type": "execute_result"
    }
   ],
   "source": [
    "from keras.layers import Activation\n",
    "def baseline_model_regression():\n",
    "    model = Sequential()\n",
    "    \n",
    "    model.add(Convolution2D(16, (5, 5), activation='relu', input_shape=(72,72,1)))\n",
    "    model.add(MaxPooling2D(pool_size=(2, 2), strides=None, padding='valid', data_format=None))\n",
    "    \n",
    "    model.add(Flatten())\n",
    "    \n",
    "    model.add(Dense(6, activation='linear')) #here the linear regression activation\n",
    "    model.compile(loss='mean_squared_error',optimizer='SGD', metrics=['accuracy'])\n",
    "\n",
    "    return model\n",
    "\n",
    "\n",
    "#Use the model\n",
    "regr = baseline_model_regression()\n",
    "#Y_train_n=normalize(Y_train)\n",
    "train2=X_train.reshape(X_train.shape[0], 72, 72 , 1)\n",
    "regr.fit(train2, Y_train_n,epochs =100,batch_size = 32)"
   ]
  },
  {
   "cell_type": "markdown",
   "metadata": {},
   "source": [
    "Even with 100 epochs, the accuracy remains low (around 45%) on the train data. "
   ]
  },
  {
   "cell_type": "code",
   "execution_count": 17,
   "metadata": {
    "scrolled": true
   },
   "outputs": [
    {
     "name": "stdout",
     "output_type": "stream",
     "text": [
      "Creating data:\n",
      "0\n",
      "10\n",
      "20\n",
      "30\n",
      "40\n",
      "50\n",
      "60\n",
      "70\n",
      "80\n",
      "90\n",
      "100\n",
      "110\n",
      "120\n",
      "130\n",
      "140\n",
      "150\n",
      "160\n",
      "170\n",
      "180\n",
      "190\n",
      "200\n",
      "210\n",
      "220\n",
      "230\n",
      "240\n",
      "250\n",
      "260\n",
      "270\n",
      "280\n",
      "290\n"
     ]
    }
   ],
   "source": [
    "[X_test, Y_test] = generate_test_set_regression()\n",
    "\n",
    "test2=X_test.reshape(X_test.shape[0], 72, 72 , 1)\n",
    "Y_pred=regr.predict(test2)\n",
    "\n"
   ]
  },
  {
   "cell_type": "code",
   "execution_count": 18,
   "metadata": {
    "scrolled": true
   },
   "outputs": [
    {
     "data": {
      "image/png": "[encoded data removed]",
      "text/plain": [
       "<Figure size 360x360 with 1 Axes>"
      ]
     },
     "metadata": {
      "needs_background": "light"
     },
     "output_type": "display_data"
    }
   ],
   "source": [
    "visualize_prediction(X_test[2], Y_pred[2])"
   ]
  },
  {
   "cell_type": "markdown",
   "metadata": {},
   "source": [
    "7 - Image Denoising\n",
    "\n",
    "We modify some generating functions to generate pairs of images, with and without noise.\n",
    "We limit the noise for now.\n"
   ]
  },
  {
   "cell_type": "code",
   "execution_count": 110,
   "metadata": {},
   "outputs": [],
   "source": [
    "random_noise=(72*72)*np.random.random()\n",
    "\n",
    "def generate_a_drawing_noise(figsize, U, V, noise=random_noise):\n",
    "    fig = plt.figure(figsize=(figsize,figsize))\n",
    "    ax = plt.subplot(111)\n",
    "    plt.axis('Off')\n",
    "    ax.set_xlim(0,figsize)\n",
    "    ax.set_ylim(0,figsize)\n",
    "    ax.fill(U, V, \"k\")\n",
    "    fig.canvas.draw()\n",
    "    imdata = np.frombuffer(fig.canvas.tostring_rgb(), dtype=np.uint8)[::3].astype(np.float32)\n",
    "    imdata1 = imdata + noise * np.random.random(imdata.size)\n",
    "    \n",
    "    plt.close(fig)\n",
    "    return imdata,imdata1\n",
    "\n",
    "def generate_a_rectangle_noise(noise=random_noise, free_location=False):\n",
    "    figsize = 1.0    \n",
    "    U = np.zeros(4)\n",
    "    V = np.zeros(4)\n",
    "    if free_location:\n",
    "        corners = np.random.random(4)\n",
    "        top = max(corners[0], corners[1])\n",
    "        bottom = min(corners[0], corners[1])\n",
    "        left = min(corners[2], corners[3])\n",
    "        right = max(corners[2], corners[3])\n",
    "    else:\n",
    "        side = (0.3 + 0.7 * np.random.random()) * figsize\n",
    "        top = figsize/2 + side/2\n",
    "        bottom = figsize/2 - side/2\n",
    "        left = bottom\n",
    "        right = top\n",
    "    U[0] = U[1] = top\n",
    "    U[2] = U[3] = bottom\n",
    "    V[0] = V[3] = left\n",
    "    V[1] = V[2] = right\n",
    "    return generate_a_drawing_noise(figsize, U, V, noise)\n",
    "\n",
    "\n",
    "def generate_a_disk_noise(noise=random_noise, free_location=False):\n",
    "    figsize = 1.0\n",
    "    if free_location:\n",
    "        center = np.random.random(2)\n",
    "    else:\n",
    "        center = (figsize/2, figsize/2)\n",
    "    radius = (0.3 + 0.7 * np.random.random()) * figsize/2\n",
    "    N = 50\n",
    "    U = np.zeros(N)\n",
    "    V = np.zeros(N)\n",
    "    i = 0\n",
    "    for t in np.linspace(0, 2*np.pi, N):\n",
    "        U[i] = center[0] + np.cos(t) * radius\n",
    "        V[i] = center[1] + np.sin(t) * radius\n",
    "        i = i + 1\n",
    "    return generate_a_drawing_noise(figsize, U, V, noise)\n",
    "\n",
    "def generate_a_triangle_noise(noise=random_noise, free_location=False):\n",
    "    figsize = 1.0\n",
    "    if free_location:\n",
    "        U = np.random.random(3)\n",
    "        V = np.random.random(3)\n",
    "    else:\n",
    "        size = (0.3 + 0.7 * np.random.random())*figsize/2\n",
    "        middle = figsize/2\n",
    "        U = (middle, middle+size, middle-size)\n",
    "        V = (middle+size, middle-size, middle-size)\n",
    "    imdata1,imdata2 = generate_a_drawing_noise(figsize, U, V, noise)\n",
    "    return [imdata1,imdata2, [U[0], V[0], U[1], V[1], U[2], V[2]]]\n",
    "\n"
   ]
  },
  {
   "cell_type": "markdown",
   "metadata": {},
   "source": [
    "We can display the pairs of image with the following code"
   ]
  },
  {
   "cell_type": "code",
   "execution_count": 111,
   "metadata": {},
   "outputs": [
    {
     "data": {
      "text/plain": [
       "<matplotlib.image.AxesImage at 0x2304f9a8198>"
      ]
     },
     "execution_count": 111,
     "metadata": {},
     "output_type": "execute_result"
    },
    {
     "data": {
      "image/png": "[encoded data removed]",
      "text/plain": [
       "<Figure size 432x288 with 2 Axes>"
      ]
     },
     "metadata": {
      "needs_background": "light"
     },
     "output_type": "display_data"
    }
   ],
   "source": [
    "im1,im2 = generate_a_rectangle_noise(random_noise, True)\n",
    "plt.subplot(1,2,1)\n",
    "plt.imshow(im1.reshape(IMAGE_SIZE,IMAGE_SIZE), cmap='gray')\n",
    "plt.subplot(1,2,2)\n",
    "plt.imshow(im2.reshape(IMAGE_SIZE,IMAGE_SIZE), cmap='gray')"
   ]
  },
  {
   "cell_type": "code",
   "execution_count": 112,
   "metadata": {},
   "outputs": [
    {
     "data": {
      "text/plain": [
       "<matplotlib.image.AxesImage at 0x2304fa6bac8>"
      ]
     },
     "execution_count": 112,
     "metadata": {},
     "output_type": "execute_result"
    },
    {
     "data": {
      "image/png": "[encoded data removed]",
      "text/plain": [
       "<Figure size 432x288 with 2 Axes>"
      ]
     },
     "metadata": {
      "needs_background": "light"
     },
     "output_type": "display_data"
    }
   ],
   "source": [
    "im1,im2 = generate_a_disk_noise(random_noise)\n",
    "plt.subplot(1,2,1)\n",
    "plt.imshow(im1.reshape(IMAGE_SIZE,IMAGE_SIZE), cmap='gray')\n",
    "plt.subplot(1,2,2)\n",
    "plt.imshow(im2.reshape(IMAGE_SIZE,IMAGE_SIZE), cmap='gray')"
   ]
  },
  {
   "cell_type": "code",
   "execution_count": 113,
   "metadata": {},
   "outputs": [
    {
     "data": {
      "text/plain": [
       "<matplotlib.image.AxesImage at 0x2304fb384e0>"
      ]
     },
     "execution_count": 113,
     "metadata": {},
     "output_type": "execute_result"
    },
    {
     "data": {
      "image/png": "[encoded data removed]",
      "text/plain": [
       "<Figure size 432x288 with 2 Axes>"
      ]
     },
     "metadata": {
      "needs_background": "light"
     },
     "output_type": "display_data"
    }
   ],
   "source": [
    "[im1,im2, v] = generate_a_triangle_noise(random_noise, False)\n",
    "plt.subplot(1,2,1)\n",
    "plt.imshow(im1.reshape(IMAGE_SIZE,IMAGE_SIZE), cmap='gray')\n",
    "plt.subplot(1,2,2)\n",
    "plt.imshow(im2.reshape(IMAGE_SIZE,IMAGE_SIZE), cmap='gray')"
   ]
  },
  {
   "cell_type": "markdown",
   "metadata": {},
   "source": [
    "I did not succeed in building the hourglass network."
   ]
  }
 ],
 "metadata": {
  "kernelspec": {
   "display_name": "Python [conda env:tensorflow_env]",
   "language": "python",
   "name": "conda-env-tensorflow_env-py"
  },
  "language_info": {
   "codemirror_mode": {
    "name": "ipython",
    "version": 3
   },
   "file_extension": ".py",
   "mimetype": "text/x-python",
   "name": "python",
   "nbconvert_exporter": "python",
   "pygments_lexer": "ipython3",
   "version": "3.6.7"
  }
 },
 "nbformat": 4,
 "nbformat_minor": 2
}
